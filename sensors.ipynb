{
 "cells": [
  {
   "cell_type": "markdown",
   "metadata": {},
   "source": [
    "# Generate config for sensor-mqtt.yaml and sensor.yaml\n",
    "\n",
    "This notebook generates the required config for `sensor-mqtt.yaml` and `sensor.yaml` housed at https://github.com/amadeuspzs/homeassistant-config\n",
    "\n",
    "It requires a `sensors.json` file with topics and names of sensors."
   ]
  },
  {
   "cell_type": "code",
   "execution_count": null,
   "metadata": {},
   "outputs": [],
   "source": [
    "import json\n",
    "import yaml\n",
    "from slugify import slugify"
   ]
  },
  {
   "cell_type": "markdown",
   "metadata": {},
   "source": [
    "```yaml\n",
    "mqtt:\n",
    "    sensor:\n",
    "    - state_topic: \"drawingroom/temperature\"\n",
    "      name: \"Drawing Room Temperature\"\n",
    "      unit_of_measurement: \"°C\"\n",
    "      device_class: \"temperature\"\n",
    "    - state_topic: \"drawingroom/humidity\"\n",
    "      name: \"Drawing Room Humidity\"\n",
    "      unit_of_measurement: \"%\"\n",
    "      device_class: \"humidity\"\n",
    "    - state_topic: \"drawingroom/vbatt\"\n",
    "      name: \"Drawing Room Battery\"\n",
    "      unit_of_measurement: \"V\"\n",
    "      device_class: \"voltage\"\n",
    "```  \n",
    "\n",
    "```yaml\n",
    "- platform: template\n",
    "  sensors:\n",
    "    drawing_room_power:\n",
    "      friendly_name: \"Drawing Room Power\"\n",
    "      unit_of_measurement: \"%\"\n",
    "      value_template: \"{{ (100*(states('sensor.living_room_k_a_battery') | float) /4.2) | round(1) }}\"\n",
    "      device_class: battery\n",
    "```"
   ]
  },
  {
   "cell_type": "code",
   "execution_count": null,
   "metadata": {
    "scrolled": false
   },
   "outputs": [],
   "source": [
    "with open(\"sensors.json\") as f:\n",
    "     sensors = json.load(f)\n",
    "\n",
    "mqtt_yaml_sensors = \"\"\n",
    "yaml_sensors = \"\"\n",
    "for sensor in sensors:\n",
    "    entity_id = slugify(sensor[\"name\"], separator=\"_\")\n",
    "    mqtt_yaml_sensors += f'''\n",
    "- state_topic: \"{sensor[\"topic\"]}/temperature\"\n",
    "  name: \"{sensor[\"name\"]} Temperature\"\n",
    "  unit_of_measurement: \"°C\"\n",
    "  device_class: \"temperature\"\n",
    "- state_topic: \"{sensor[\"topic\"]}/humidity\"\n",
    "  name: \"{sensor[\"name\"]} Humidity\"\n",
    "  unit_of_measurement: \"%\"\n",
    "  device_class: \"humidity\"\n",
    "- state_topic: \"{sensor[\"topic\"]}/vbatt\"\n",
    "  name: \"{sensor[\"name\"]} Battery\"\n",
    "  unit_of_measurement: \"V\"\n",
    "  device_class: \"voltage\"\n",
    "'''\n",
    "    yaml_sensors += f'''\n",
    "- platform: template\n",
    "  sensors:\n",
    "    {entity_id}_power:\n",
    "      friendly_name: \"{sensor[\"name\"]} Power\"\n",
    "      unit_of_measurement: \"%\"\n",
    "      value_template: \"{{% set power = (100*(states('sensor.{entity_id}_battery') | float)/4.2) | round(1) %}} {{{{ power if power <= 100 else 100 }}}}\"\n",
    "      device_class: battery\n",
    "'''\n",
    "    \n",
    "\n",
    "try:\n",
    "    yaml.safe_load(mqtt_yaml_sensors)\n",
    "    yaml.safe_load(yaml_sensors)\n",
    "    print(mqtt_yaml_sensors)\n",
    "    print(yaml_sensors)\n",
    "except:\n",
    "    print(\"YAML failed to parse\")"
   ]
  },
  {
   "cell_type": "code",
   "execution_count": null,
   "metadata": {},
   "outputs": [],
   "source": []
  }
 ],
 "metadata": {
  "kernelspec": {
   "display_name": "Python 3",
   "language": "python",
   "name": "python3"
  },
  "language_info": {
   "codemirror_mode": {
    "name": "ipython",
    "version": 3
   },
   "file_extension": ".py",
   "mimetype": "text/x-python",
   "name": "python",
   "nbconvert_exporter": "python",
   "pygments_lexer": "ipython3",
   "version": "3.7.16"
  }
 },
 "nbformat": 4,
 "nbformat_minor": 4
}
