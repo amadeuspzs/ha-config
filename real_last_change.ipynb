{
 "cells": [
  {
   "cell_type": "markdown",
   "metadata": {},
   "source": [
    "# Find real last sensor change, ignore HA restart\n",
    "\n",
    "This is based on https://community.home-assistant.io/t/real-state-last-changed/15928 but using InfluxDB/SQLite"
   ]
  },
  {
   "cell_type": "markdown",
   "metadata": {},
   "source": [
    "# InfluxDB"
   ]
  },
  {
   "cell_type": "code",
   "execution_count": 2,
   "metadata": {},
   "outputs": [],
   "source": [
    "import sys\n",
    "from influxdb import DataFrameClient\n",
    "from datetime import timezone\n",
    "\n",
    "entity_id = sys.argv[1]\n",
    "\n",
    "def utc_to_local(utc_dt):\n",
    "    return utc_dt.replace(tzinfo=timezone.utc).astimezone(tz=None)\n",
    "\n",
    "client = DataFrameClient('192.168.1.199', 8086, '', '', 'home_assistant')"
   ]
  },
  {
   "cell_type": "markdown",
   "metadata": {},
   "source": [
    "InfluxDB query:\n",
    "\n",
    "```sql\n",
    "select * from \"°C\" where domain='sensor' and entity_id='attic_office_temperature' order by time DESC limit 10\n",
    "```\n",
    "\n",
    "Note that this still shows restart times as it looks like HA sets the sensor values into influxdb when it starts. Need to loop through results to find when value actually changed :|\n",
    "\n",
    "This isn't very flexible however as it requires knowing what the sensor unit is, to access the requisite table."
   ]
  },
  {
   "cell_type": "markdown",
   "metadata": {},
   "source": [
    "## SQLite\n",
    "\n",
    "Use the built-in database (careful!) to extract the necessary data"
   ]
  },
  {
   "cell_type": "code",
   "execution_count": 64,
   "metadata": {},
   "outputs": [],
   "source": [
    "# todo: error handling, think about utc\n",
    "\n",
    "import sys\n",
    "from sqlalchemy import create_engine\n",
    "import pandas as pd\n",
    "\n",
    "# define your home assistant db location below:\n",
    "db = \"/home/amadeus/.homeassistant/home-assistant_v2.db\"\n",
    "\n",
    "# specify entity_id as first argument to this script\n",
    "entity_id = \"sensor.attic_office_temperature\"\n",
    "# entity_id = sys.argv[1]\n",
    "\n",
    "# connect using SQLalchemy\n",
    "engine = create_engine(f\"sqlite:///{db}\")\n",
    "conn = engine.connect()\n",
    "\n",
    "# how many restart events can we expect?\n",
    "num_restarts = 100\n",
    "\n",
    "# build the query\n",
    "query = f\"\"\"\n",
    "SELECT\n",
    "    state,\n",
    "    last_changed\n",
    "FROM states \n",
    "WHERE \n",
    "    domain=\"sensor\" AND\n",
    "    entity_id=\"{entity_id}\" AND\n",
    "    state !=\"unknown\"\n",
    "ORDER BY last_updated DESC \n",
    "LIMIT {num_restarts}\n",
    "\"\"\"\n",
    "\n",
    "# execute the query and load into a pandas dataframe:\n",
    "df = pd.read_sql_query(query, conn)\n",
    "\n",
    "# compare the results to a dataframe shifted one forward with backfill,\n",
    "# extract the 1st changed value, \n",
    "# and extract the last_changed value\n",
    "\n",
    "real_last_changed = pd.to_datetime(df.last_changed[df.state.ne(df.state.shift().bfill())].iloc[0])"
   ]
  },
  {
   "cell_type": "markdown",
   "metadata": {},
   "source": [
    "Implementation in hassio:\n",
    "\n",
    "```yaml\n",
    "sensor:\n",
    "  - platform: command_line\n",
    "    name: \"RLC MQTT Test Switch\"\n",
    "    command: \"python3 /path/to/scripts/real_last_change.py sensor.attic_office_temperature\"\n",
    "    scan_interval: 60\n",
    "```\n",
    "\n",
    "Template to calculate when sensor was last changed (hours) for automations:\n",
    "\n",
    "```yaml\n",
    "{{ (as_timestamp(now()) - as_timestamp(states('sensor.rlc_attic_office_temperature')))/(60*60) }}\n",
    "```"
   ]
  },
  {
   "cell_type": "code",
   "execution_count": null,
   "metadata": {},
   "outputs": [],
   "source": []
  }
 ],
 "metadata": {
  "kernelspec": {
   "display_name": "Python 3",
   "language": "python",
   "name": "python3"
  },
  "language_info": {
   "codemirror_mode": {
    "name": "ipython",
    "version": 3
   },
   "file_extension": ".py",
   "mimetype": "text/x-python",
   "name": "python",
   "nbconvert_exporter": "python",
   "pygments_lexer": "ipython3",
   "version": "3.7.9"
  }
 },
 "nbformat": 4,
 "nbformat_minor": 4
}
